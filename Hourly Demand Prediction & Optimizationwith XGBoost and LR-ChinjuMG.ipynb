{
 "cells": [
  {
   "cell_type": "markdown",
   "id": "3e95cb19-6605-4da1-836c-a639defd0b2b",
   "metadata": {},
   "source": [
    "## The challenge:\n",
    "Your objective is to predict the hourly demand for taxis in the Bronx area and determine the optimal number of taxis required to meet this demand. The task is divided into five parts, each progressively challenging to showcase your skills in data science, machine learning, and operational optimization.\n",
    "\n",
    "#### 1.Baseline Model:\n",
    "\n",
    "Build a simple baseline model to predict hourly demand. Explain your choice of the baseline model and the performance metrics you use to evaluate it.\n",
    "\n",
    "#### 2.Improved Model:\n",
    "\n",
    "Develop an improved model by incorporating additional features, refining your data preprocessing steps, or using more sophisticated algorithms. Compare its performance with the baseline model and explain the improvements. Discuss any feature engineering techniques or data transformation methods you employed.\n",
    "#### 3.Best Model:\n",
    "\n",
    "Optimize your improved model to achieve the best possible performance. Explain the steps taken to enhance the model and the final results. Provide a clear comparison between the baseline, improved, and best models, highlighting the key improvements.\n",
    "\n",
    "#### 4.Forecasting the First Week of September 2024:\n",
    "\n",
    "Using your best model, forecast the hourly demand for taxis in the Bronx for the first week of September 2024. Explain any additional steps or assumptions you took into consideration for this forecasting task, such as seasonal trends, external factors, or potential anomalies.\n",
    "\n",
    "#### 5.Optimal Number of Taxis:\n",
    "\n",
    "Determine the optimal number of taxis required to meet the predicted hourly demand in the Bronx. Make reasonable assumptions about factors such as average trip duration, taxi availability, and operational constraints. You might need to consider potential costs and benefits in your analysis. Explain your assumptions and the methodology used to calculate the optimal number of taxis. Discuss the implications of your findings on operational efficiency and customer satisfaction.\n"
   ]
  },
  {
   "cell_type": "code",
   "execution_count": 130,
   "id": "8817a1ad-e59c-4215-aac5-287ae784ae48",
   "metadata": {},
   "outputs": [],
   "source": [
    "import warnings\n",
    "warnings.filterwarnings('ignore')"
   ]
  },
  {
   "cell_type": "code",
   "execution_count": 131,
   "id": "8047b225-8755-453a-af0f-7ca9b348a4ba",
   "metadata": {},
   "outputs": [],
   "source": [
    "#Import the libraries\n",
    "import pandas as pd\n",
    "import numpy as np\n",
    "import matplotlib.pyplot as plt\n",
    "import xgboost as xgb\n",
    "from sklearn.model_selection import train_test_split\n",
    "from sklearn.model_selection import GridSearchCV\n",
    "from sklearn.ensemble import RandomForestRegressor\n",
    "from sklearn.linear_model import LinearRegression, Ridge, Lasso\n",
    "from statsmodels.stats.outliers_influence import variance_inflation_factor\n",
    "from sklearn.preprocessing import StandardScaler\n",
    "from sklearn.preprocessing import MinMaxScaler\n",
    "from tensorflow.keras.models import Sequential\n",
    "from tensorflow.keras.layers import LSTM, Dense, Dropout\n",
    "from datetime import datetime, timedelta\n",
    "from sklearn.metrics import mean_absolute_error, mean_squared_error, r2_score\n"
   ]
  },
  {
   "cell_type": "code",
   "execution_count": 132,
   "id": "b24c1036-9b4e-4931-9b65-756b5a3d33af",
   "metadata": {},
   "outputs": [],
   "source": [
    "#Read the data\n",
    "taxi_data=pd.read_csv(\"TaxiTrips_BronxOrigin2023.csv\")"
   ]
  },
  {
   "cell_type": "code",
   "execution_count": 133,
   "id": "c29d3363-8997-4a48-8668-124ae51c92a5",
   "metadata": {},
   "outputs": [
    {
     "data": {
      "text/plain": [
       "(Index(['tpep_pickup_datetime', 'tpep_dropoff_datetime', 'passenger_count',\n",
       "        'trip_distance', 'PULocationID', 'DOLocationID'],\n",
       "       dtype='object'),\n",
       " tpep_pickup_datetime      object\n",
       " tpep_dropoff_datetime     object\n",
       " passenger_count          float64\n",
       " trip_distance            float64\n",
       " PULocationID               int64\n",
       " DOLocationID               int64\n",
       " dtype: object)"
      ]
     },
     "execution_count": 133,
     "metadata": {},
     "output_type": "execute_result"
    }
   ],
   "source": [
    "taxi_data.columns,taxi_data.dtypes"
   ]
  },
  {
   "cell_type": "code",
   "execution_count": null,
   "id": "5701001f-33cf-4b51-b159-b2c78536bc09",
   "metadata": {},
   "outputs": [],
   "source": []
  },
  {
   "cell_type": "code",
   "execution_count": 134,
   "id": "585a28ba-0867-43ec-af0b-99470f798365",
   "metadata": {},
   "outputs": [],
   "source": [
    "weather_data=pd.read_csv(r\"Bronx_Weather_Data2023.csv\")"
   ]
  },
  {
   "cell_type": "code",
   "execution_count": 135,
   "id": "484b5ec1-022d-4217-b30a-9aa166d2a7e5",
   "metadata": {},
   "outputs": [
    {
     "data": {
      "text/plain": [
       "(Index(['Unnamed: 0', 'date', 'temperature_2m', 'precipitation', 'rain',\n",
       "        'snowfall'],\n",
       "       dtype='object'),\n",
       " Unnamed: 0          int64\n",
       " date               object\n",
       " temperature_2m    float64\n",
       " precipitation     float64\n",
       " rain              float64\n",
       " snowfall          float64\n",
       " dtype: object)"
      ]
     },
     "execution_count": 135,
     "metadata": {},
     "output_type": "execute_result"
    }
   ],
   "source": [
    "weather_data.columns,weather_data.dtypes"
   ]
  },
  {
   "cell_type": "code",
   "execution_count": 136,
   "id": "15f50593-b38a-4b82-8dab-cd67fa48fca7",
   "metadata": {},
   "outputs": [],
   "source": [
    "location_data=pd.read_csv(r\"taxi_zone_lookup.csv\")"
   ]
  },
  {
   "cell_type": "code",
   "execution_count": 137,
   "id": "f7c39c72-1336-45b5-ab7d-dbcc6f133515",
   "metadata": {},
   "outputs": [
    {
     "data": {
      "text/plain": [
       "(Index(['LocationID', 'Borough', 'Zone', 'service_zone'], dtype='object'),\n",
       " LocationID       int64\n",
       " Borough         object\n",
       " Zone            object\n",
       " service_zone    object\n",
       " dtype: object)"
      ]
     },
     "execution_count": 137,
     "metadata": {},
     "output_type": "execute_result"
    }
   ],
   "source": [
    "location_data.columns,location_data.dtypes"
   ]
  },
  {
   "cell_type": "code",
   "execution_count": 138,
   "id": "7af7feb6-cdc4-43af-8c13-a1b6ab6d8cf6",
   "metadata": {},
   "outputs": [
    {
     "data": {
      "text/plain": [
       "array(['EWR', 'Queens', 'Bronx', 'Manhattan', 'Staten Island', 'Brooklyn',\n",
       "       'Unknown', nan], dtype=object)"
      ]
     },
     "execution_count": 138,
     "metadata": {},
     "output_type": "execute_result"
    }
   ],
   "source": [
    "location_data['Borough'].unique()"
   ]
  },
  {
   "cell_type": "code",
   "execution_count": 139,
   "id": "7da6099f-025d-4dbb-bc96-17910c63fa73",
   "metadata": {},
   "outputs": [],
   "source": [
    "location_data=location_data[location_data['Borough']==\"Bronx\"]"
   ]
  },
  {
   "cell_type": "code",
   "execution_count": 140,
   "id": "a716cb0d-9a59-405e-8db9-8fbe20367ac5",
   "metadata": {},
   "outputs": [
    {
     "data": {
      "text/plain": [
       "array([  3,  18,  20,  31,  32,  46,  47,  51,  58,  59,  60,  69,  78,\n",
       "        81,  94, 119, 126, 136, 147, 159, 167, 168, 169, 174, 182, 183,\n",
       "       184, 185, 199, 200, 208, 212, 213, 220, 235, 240, 241, 242, 247,\n",
       "       248, 250, 254, 259], dtype=int64)"
      ]
     },
     "execution_count": 140,
     "metadata": {},
     "output_type": "execute_result"
    }
   ],
   "source": [
    "location_data.LocationID.unique()"
   ]
  },
  {
   "cell_type": "markdown",
   "id": "01d63aec-8514-4cbb-9ca0-fe945daea1b2",
   "metadata": {},
   "source": [
    "## Data Cleaning and Processing"
   ]
  },
  {
   "cell_type": "markdown",
   "id": "4168d26c-ed2a-4624-98b1-6356513291d1",
   "metadata": {},
   "source": [
    "<!-- tpep_pickup_datetime: The date and time when the meter was engaged.\n",
    "tpep_dropoff_datetime: The date and time when the meter was disengaged.\n",
    "passenger_count: The number of passengers in the vehicle. This is a driver-entered value.\n",
    "trip_distance: The elapsed trip distance in miles reported by the taximeter.\n",
    "PULocationID: TLC Taxi Zone in which the taximeter was engaged.\n",
    "DOLocationID: TLC Taxi Zone in which the taximeter was disengaged. -->"
   ]
  },
  {
   "cell_type": "code",
   "execution_count": 141,
   "id": "304076c7-a6be-4ada-bcbd-757b88821937",
   "metadata": {},
   "outputs": [],
   "source": [
    "# tpep_pickup_datetime: The date and time when the meter was engaged.\n",
    "# tpep_dropoff_datetime: The date and time when the meter was disengaged.\n",
    "# passenger_count: The number of passengers in the vehicle. This is a driver-entered value.\n",
    "# trip_distance: The elapsed trip distance in miles reported by the taximeter.\n",
    "# PULocationID: TLC Taxi Zone in which the taximeter was engaged.\n",
    "# DOLocationID: TLC Taxi Zone in which the taximeter was disengaged."
   ]
  },
  {
   "cell_type": "code",
   "execution_count": 142,
   "id": "645dc1ed-6fbb-484f-9c93-0fae6bcbbae1",
   "metadata": {},
   "outputs": [
    {
     "name": "stdout",
     "output_type": "stream",
     "text": [
      "2023-12-31 9:59\n",
      "2024-01-01 0:16\n",
      "2023-01-01 0:00\n",
      "2023-01-01 0:16\n"
     ]
    }
   ],
   "source": [
    "print(taxi_data['tpep_pickup_datetime'].max())\n",
    "print(taxi_data['tpep_dropoff_datetime'].max())\n",
    "print(taxi_data['tpep_pickup_datetime'].min())\n",
    "print(taxi_data['tpep_dropoff_datetime'].min())\n"
   ]
  },
  {
   "cell_type": "code",
   "execution_count": 143,
   "id": "b4fe38a1-b4b7-4eb1-81f0-c1d3c2643d84",
   "metadata": {},
   "outputs": [],
   "source": [
    "#Convert the pickup and drop off cols to datetime \n",
    "\n",
    "taxi_data['tpep_pickup_datetime'] = pd.to_datetime(taxi_data['tpep_pickup_datetime'])\n",
    "taxi_data['tpep_dropoff_datetime'] = pd.to_datetime(taxi_data['tpep_dropoff_datetime'])\n",
    "weather_data['date'] = pd.to_datetime(weather_data['date'])\n",
    "\n"
   ]
  },
  {
   "cell_type": "code",
   "execution_count": 144,
   "id": "53df146e-dcd8-4b9a-bfdc-779fe5a1a05e",
   "metadata": {},
   "outputs": [],
   "source": [
    "#Convert the UTC Timezone to avoid merge problems\n",
    "weather_data['date'] = weather_data['date'].dt.tz_convert(None)\n"
   ]
  },
  {
   "cell_type": "code",
   "execution_count": 145,
   "id": "9279385e-0290-4c8d-ac0d-ebfe184b8b37",
   "metadata": {},
   "outputs": [
    {
     "data": {
      "text/plain": [
       "(<DatetimeArray>\n",
       " ['2023-01-01 00:08:00', '2023-01-01 00:27:00', '2023-01-01 00:16:00',\n",
       "  '2023-01-01 00:00:00', '2023-01-01 01:51:00', '2023-01-01 01:44:00',\n",
       "  '2023-01-01 01:59:00', '2023-01-01 02:56:00', '2023-01-01 02:18:00',\n",
       "  '2023-01-01 02:09:00',\n",
       "  ...\n",
       "  '2023-12-31 23:08:00', '2023-12-31 23:19:00', '2023-12-31 23:56:00',\n",
       "  '2023-12-31 23:11:00', '2023-12-31 23:07:00', '2023-12-31 23:10:00',\n",
       "  '2023-12-31 23:16:00', '2023-12-31 23:33:00', '2023-12-31 23:38:00',\n",
       "  '2023-12-31 23:04:00']\n",
       " Length: 59199, dtype: datetime64[ns],\n",
       " <DatetimeArray>\n",
       " ['2023-01-01 00:00:00', '2023-01-01 01:00:00', '2023-01-01 02:00:00',\n",
       "  '2023-01-01 03:00:00', '2023-01-01 04:00:00', '2023-01-01 05:00:00',\n",
       "  '2023-01-01 06:00:00', '2023-01-01 07:00:00', '2023-01-01 08:00:00',\n",
       "  '2023-01-01 09:00:00',\n",
       "  ...\n",
       "  '2023-12-31 14:00:00', '2023-12-31 15:00:00', '2023-12-31 16:00:00',\n",
       "  '2023-12-31 17:00:00', '2023-12-31 18:00:00', '2023-12-31 19:00:00',\n",
       "  '2023-12-31 20:00:00', '2023-12-31 21:00:00', '2023-12-31 22:00:00',\n",
       "  '2023-12-31 23:00:00']\n",
       " Length: 8760, dtype: datetime64[ns])"
      ]
     },
     "execution_count": 145,
     "metadata": {},
     "output_type": "execute_result"
    }
   ],
   "source": [
    "taxi_data['tpep_pickup_datetime'].unique(),weather_data['date'].unique()"
   ]
  },
  {
   "cell_type": "code",
   "execution_count": 146,
   "id": "7a446fbe-7ffa-4388-b771-1423e6743eb2",
   "metadata": {},
   "outputs": [],
   "source": [
    "\n",
    "taxi_data= taxi_data.sort_values(by=['tpep_pickup_datetime']).reset_index()"
   ]
  },
  {
   "cell_type": "code",
   "execution_count": 147,
   "id": "40e5d297-bb8d-44f3-baa6-f3d1c9b304f4",
   "metadata": {},
   "outputs": [],
   "source": [
    "#Filter only for Bronx area\n",
    "bronx_location_ids=location_data.LocationID.unique()"
   ]
  },
  {
   "cell_type": "code",
   "execution_count": 148,
   "id": "05a51ab3-c40b-489a-8ea7-813dadfe438d",
   "metadata": {},
   "outputs": [
    {
     "data": {
      "text/plain": [
       "array([  3,  18,  20,  31,  32,  46,  47,  51,  58,  59,  60,  69,  78,\n",
       "        81,  94, 119, 126, 136, 147, 159, 167, 168, 169, 174, 182, 183,\n",
       "       184, 185, 199, 200, 208, 212, 213, 220, 235, 240, 241, 242, 247,\n",
       "       248, 250, 254, 259], dtype=int64)"
      ]
     },
     "execution_count": 148,
     "metadata": {},
     "output_type": "execute_result"
    }
   ],
   "source": [
    "#Aggregate by hourfor \n",
    "bronx_location_ids"
   ]
  },
  {
   "cell_type": "code",
   "execution_count": 149,
   "id": "39a26d75-4f72-49fb-95d4-830c3fac2706",
   "metadata": {},
   "outputs": [],
   "source": [
    "#Check for Location which is for Bronx area\n",
    "bronx_data = taxi_data[taxi_data['PULocationID'].isin(bronx_location_ids)]\n"
   ]
  },
  {
   "cell_type": "code",
   "execution_count": 150,
   "id": "d00d9e16-40eb-46b6-9443-930b7b9c108c",
   "metadata": {},
   "outputs": [
    {
     "data": {
      "text/plain": [
       "(66000, 7)"
      ]
     },
     "execution_count": 150,
     "metadata": {},
     "output_type": "execute_result"
    }
   ],
   "source": [
    "bronx_data.shape"
   ]
  },
  {
   "cell_type": "code",
   "execution_count": 151,
   "id": "22e9fb66-bc56-4a1c-b8d8-efe2736e9eea",
   "metadata": {},
   "outputs": [
    {
     "data": {
      "text/plain": [
       "Index(['index', 'tpep_pickup_datetime', 'tpep_dropoff_datetime',\n",
       "       'passenger_count', 'trip_distance', 'PULocationID', 'DOLocationID'],\n",
       "      dtype='object')"
      ]
     },
     "execution_count": 151,
     "metadata": {},
     "output_type": "execute_result"
    }
   ],
   "source": [
    "bronx_data.columns"
   ]
  },
  {
   "cell_type": "markdown",
   "id": "5fb1ee22-cd8f-42dc-a3b0-c2fd98b4175d",
   "metadata": {},
   "source": [
    "## Aggregate demand by hour\n"
   ]
  },
  {
   "cell_type": "code",
   "execution_count": 152,
   "id": "6f5deb6f-a545-4719-a0a4-a975f133225e",
   "metadata": {},
   "outputs": [],
   "source": [
    "bronx_data['hour'] = bronx_data['tpep_pickup_datetime'].dt.hour\n",
    "# bronx_data['date'] = bronx_data['tpep_pickup_datetime'].dt.date\n",
    "\n",
    "hourly_demand=bronx_data.copy()\n",
    "# hourly_demand = bronx_data.groupby([bronx_data['tpep_pickup_datetime'].dt.floor('H')]).size().reset_index(name='demand')\n",
    "hourly_demand['hourly_demand'] = hourly_demand.groupby(hourly_demand['tpep_pickup_datetime'].dt.floor('H'))['tpep_pickup_datetime'].transform('size')\n",
    "\n",
    "# bronx_data = bronx_data.merge(hourly_demand, left_on='hour', right_on='tpep_pickup_datetime', how='left')\n"
   ]
  },
  {
   "cell_type": "code",
   "execution_count": 153,
   "id": "84499915-f36d-46ee-98b6-2518f0c80df2",
   "metadata": {},
   "outputs": [
    {
     "data": {
      "text/html": [
       "<div>\n",
       "<style scoped>\n",
       "    .dataframe tbody tr th:only-of-type {\n",
       "        vertical-align: middle;\n",
       "    }\n",
       "\n",
       "    .dataframe tbody tr th {\n",
       "        vertical-align: top;\n",
       "    }\n",
       "\n",
       "    .dataframe thead th {\n",
       "        text-align: right;\n",
       "    }\n",
       "</style>\n",
       "<table border=\"1\" class=\"dataframe\">\n",
       "  <thead>\n",
       "    <tr style=\"text-align: right;\">\n",
       "      <th></th>\n",
       "      <th>index</th>\n",
       "      <th>tpep_pickup_datetime</th>\n",
       "      <th>tpep_dropoff_datetime</th>\n",
       "      <th>passenger_count</th>\n",
       "      <th>trip_distance</th>\n",
       "      <th>PULocationID</th>\n",
       "      <th>DOLocationID</th>\n",
       "      <th>hour</th>\n",
       "      <th>hourly_demand</th>\n",
       "    </tr>\n",
       "  </thead>\n",
       "  <tbody>\n",
       "    <tr>\n",
       "      <th>0</th>\n",
       "      <td>3</td>\n",
       "      <td>2023-01-01 00:00:00</td>\n",
       "      <td>2023-01-01 00:26:00</td>\n",
       "      <td>1.0</td>\n",
       "      <td>0.00</td>\n",
       "      <td>136</td>\n",
       "      <td>233</td>\n",
       "      <td>0</td>\n",
       "      <td>8</td>\n",
       "    </tr>\n",
       "    <tr>\n",
       "      <th>1</th>\n",
       "      <td>0</td>\n",
       "      <td>2023-01-01 00:08:00</td>\n",
       "      <td>2023-01-01 00:41:00</td>\n",
       "      <td>1.0</td>\n",
       "      <td>25.84</td>\n",
       "      <td>60</td>\n",
       "      <td>265</td>\n",
       "      <td>0</td>\n",
       "      <td>8</td>\n",
       "    </tr>\n",
       "    <tr>\n",
       "      <th>2</th>\n",
       "      <td>2</td>\n",
       "      <td>2023-01-01 00:16:00</td>\n",
       "      <td>2023-01-01 00:16:00</td>\n",
       "      <td>4.0</td>\n",
       "      <td>0.00</td>\n",
       "      <td>174</td>\n",
       "      <td>174</td>\n",
       "      <td>0</td>\n",
       "      <td>8</td>\n",
       "    </tr>\n",
       "    <tr>\n",
       "      <th>3</th>\n",
       "      <td>1</td>\n",
       "      <td>2023-01-01 00:27:00</td>\n",
       "      <td>2023-01-01 00:32:00</td>\n",
       "      <td>1.0</td>\n",
       "      <td>1.03</td>\n",
       "      <td>159</td>\n",
       "      <td>168</td>\n",
       "      <td>0</td>\n",
       "      <td>8</td>\n",
       "    </tr>\n",
       "    <tr>\n",
       "      <th>4</th>\n",
       "      <td>3934</td>\n",
       "      <td>2023-01-01 00:34:00</td>\n",
       "      <td>2023-01-01 00:55:00</td>\n",
       "      <td>NaN</td>\n",
       "      <td>4.05</td>\n",
       "      <td>247</td>\n",
       "      <td>151</td>\n",
       "      <td>0</td>\n",
       "      <td>8</td>\n",
       "    </tr>\n",
       "  </tbody>\n",
       "</table>\n",
       "</div>"
      ],
      "text/plain": [
       "   index tpep_pickup_datetime tpep_dropoff_datetime  passenger_count  \\\n",
       "0      3  2023-01-01 00:00:00   2023-01-01 00:26:00              1.0   \n",
       "1      0  2023-01-01 00:08:00   2023-01-01 00:41:00              1.0   \n",
       "2      2  2023-01-01 00:16:00   2023-01-01 00:16:00              4.0   \n",
       "3      1  2023-01-01 00:27:00   2023-01-01 00:32:00              1.0   \n",
       "4   3934  2023-01-01 00:34:00   2023-01-01 00:55:00              NaN   \n",
       "\n",
       "   trip_distance  PULocationID  DOLocationID  hour  hourly_demand  \n",
       "0           0.00           136           233     0              8  \n",
       "1          25.84            60           265     0              8  \n",
       "2           0.00           174           174     0              8  \n",
       "3           1.03           159           168     0              8  \n",
       "4           4.05           247           151     0              8  "
      ]
     },
     "execution_count": 153,
     "metadata": {},
     "output_type": "execute_result"
    }
   ],
   "source": [
    "hourly_demand.head()\n"
   ]
  },
  {
   "cell_type": "code",
   "execution_count": null,
   "id": "a18e0199-a33d-4768-ab0e-083dbfe17280",
   "metadata": {},
   "outputs": [],
   "source": []
  },
  {
   "cell_type": "code",
   "execution_count": 154,
   "id": "b8037fa9-2f7d-448a-bf78-f4e833dcbf2c",
   "metadata": {},
   "outputs": [
    {
     "data": {
      "text/plain": [
       "Index(['index', 'tpep_pickup_datetime', 'tpep_dropoff_datetime',\n",
       "       'passenger_count', 'trip_distance', 'PULocationID', 'DOLocationID',\n",
       "       'hour', 'hourly_demand'],\n",
       "      dtype='object')"
      ]
     },
     "execution_count": 154,
     "metadata": {},
     "output_type": "execute_result"
    }
   ],
   "source": [
    "hourly_demand.columns"
   ]
  },
  {
   "cell_type": "code",
   "execution_count": 155,
   "id": "cc00ab9b-f036-4f51-904a-768320522793",
   "metadata": {},
   "outputs": [
    {
     "data": {
      "text/plain": [
       "(Index(['Unnamed: 0', 'date', 'temperature_2m', 'precipitation', 'rain',\n",
       "        'snowfall'],\n",
       "       dtype='object'),\n",
       " Index(['index', 'tpep_pickup_datetime', 'tpep_dropoff_datetime',\n",
       "        'passenger_count', 'trip_distance', 'PULocationID', 'DOLocationID',\n",
       "        'hour'],\n",
       "       dtype='object'))"
      ]
     },
     "execution_count": 155,
     "metadata": {},
     "output_type": "execute_result"
    }
   ],
   "source": [
    "weather_data.columns,bronx_data.columns"
   ]
  },
  {
   "cell_type": "code",
   "execution_count": 156,
   "id": "333448be-32f1-45f0-80ff-2b1aa1635211",
   "metadata": {},
   "outputs": [],
   "source": [
    "#Merge the dfs- hourly demand and weather data\n",
    "hourly_demand=pd.merge(hourly_demand,weather_data,left_on=\"tpep_pickup_datetime\",right_on=\"date\",how=\"left\")"
   ]
  },
  {
   "cell_type": "code",
   "execution_count": 157,
   "id": "1e5f32f8-d353-456b-872e-b7acfd70aa18",
   "metadata": {},
   "outputs": [],
   "source": [
    "# Fill any missing values in weather data (e.g., forward fill)\n",
    "hourly_demand.fillna(method='ffill', inplace=True)\n"
   ]
  },
  {
   "cell_type": "code",
   "execution_count": 158,
   "id": "ac2f08e4-855f-4119-a51e-3524b62fbc84",
   "metadata": {},
   "outputs": [],
   "source": [
    "# hourly_demand[hourly_demand['tpep_pickup_datetime'].between(\"2023-09-01 23:00:00 \",\"2023-09-07 00:00:00\")].to_csv(\"Merged_sept_raw.csv\",index=False)\n",
    "# hourly_demand.to_csv(\"MergedwithWeather.csv\",index=False)"
   ]
  },
  {
   "cell_type": "code",
   "execution_count": 159,
   "id": "4eb47444-8bb9-4eff-bcf2-3ebea2b4fac3",
   "metadata": {},
   "outputs": [],
   "source": [
    "#Drop any unwanted cols\n",
    "hourly_demand.drop(columns=[\"Unnamed: 0\"],inplace=True)\n"
   ]
  },
  {
   "cell_type": "markdown",
   "id": "ed5822b9-3cdb-4f5b-bae2-35d299e861cc",
   "metadata": {},
   "source": [
    "### Feature Engineering"
   ]
  },
  {
   "cell_type": "code",
   "execution_count": 160,
   "id": "ed172600-2abd-43bc-be55-9edf30cc759d",
   "metadata": {},
   "outputs": [],
   "source": [
    "#Add in new features to the data\n",
    "hourly_demand['day_of_week'] = hourly_demand['tpep_pickup_datetime'].dt.dayofweek\n",
    "hourly_demand['month']=hourly_demand['tpep_pickup_datetime'].dt.month\n",
    "# hourly_demand['hour'] = hourly_demand['tpep_pickup_datetime'].dt.hour\n",
    "hourly_demand['is_weekend']= hourly_demand['day_of_week'].apply(lambda x: 1 if x >= 5 else 0)\n"
   ]
  },
  {
   "cell_type": "code",
   "execution_count": null,
   "id": "f1765158-778d-4436-a98c-ae0237dbfcd9",
   "metadata": {},
   "outputs": [],
   "source": []
  },
  {
   "cell_type": "code",
   "execution_count": null,
   "id": "bb3f4dc2-1b8b-43c3-a43e-28ddaa7f9634",
   "metadata": {},
   "outputs": [],
   "source": []
  },
  {
   "cell_type": "code",
   "execution_count": 161,
   "id": "6be0e288-b581-4bde-80bd-e897edc9c0db",
   "metadata": {},
   "outputs": [
    {
     "data": {
      "text/plain": [
       "array([6, 0, 1, 2, 3, 4, 5])"
      ]
     },
     "execution_count": 161,
     "metadata": {},
     "output_type": "execute_result"
    }
   ],
   "source": [
    "hourly_demand['day_of_week'].unique()"
   ]
  },
  {
   "cell_type": "code",
   "execution_count": 162,
   "id": "74364e4e-a126-488a-a0a2-65468fc57613",
   "metadata": {},
   "outputs": [
    {
     "data": {
      "text/plain": [
       "Index(['index', 'tpep_pickup_datetime', 'tpep_dropoff_datetime',\n",
       "       'passenger_count', 'trip_distance', 'PULocationID', 'DOLocationID',\n",
       "       'hour', 'hourly_demand', 'date', 'temperature_2m', 'precipitation',\n",
       "       'rain', 'snowfall', 'day_of_week', 'month', 'is_weekend'],\n",
       "      dtype='object')"
      ]
     },
     "execution_count": 162,
     "metadata": {},
     "output_type": "execute_result"
    }
   ],
   "source": [
    "hourly_demand.columns"
   ]
  },
  {
   "cell_type": "code",
   "execution_count": 163,
   "id": "ddb664e9-2224-4e6d-85be-3412cdb652dc",
   "metadata": {},
   "outputs": [],
   "source": [
    "# Lag feature for demand\n",
    "hourly_demand['lag_demand_1'] = hourly_demand['hourly_demand'].shift(1)  # Demand 1 hour ago\n",
    "hourly_demand['lag_demand_3'] = hourly_demand['hourly_demand'].shift(3)  # Demand 3 hours ago\n",
    "hourly_demand['lag_demand_6'] = hourly_demand['hourly_demand'].shift(6)  # Demand 6 hours ago\n"
   ]
  },
  {
   "cell_type": "code",
   "execution_count": 164,
   "id": "aafd827b-b696-47d1-8d79-ecd44563950f",
   "metadata": {},
   "outputs": [],
   "source": [
    "# Drop any rows with NaN values (caused by lagging)\n",
    "hourly_demand.dropna(inplace=True)"
   ]
  },
  {
   "cell_type": "code",
   "execution_count": 165,
   "id": "348cffb0-88de-40f2-b149-6656334c65b9",
   "metadata": {},
   "outputs": [
    {
     "name": "stdout",
     "output_type": "stream",
     "text": [
      "               hourly_demand  lag1_demand  lag2_demand  temperature  \\\n",
      "hourly_demand       1.000000     0.974336     0.949776    -0.074415   \n",
      "lag1_demand         0.974336     1.000000     0.974336    -0.074839   \n",
      "lag2_demand         0.949776     0.974336     1.000000    -0.075268   \n",
      "temperature        -0.074415    -0.074839    -0.075268     1.000000   \n",
      "precipitation       0.079649     0.080265     0.080873     0.026679   \n",
      "rain                0.080483     0.081117     0.081744     0.030836   \n",
      "\n",
      "               precipitation      rain  \n",
      "hourly_demand       0.079649  0.080483  \n",
      "lag1_demand         0.080265  0.081117  \n",
      "lag2_demand         0.080873  0.081744  \n",
      "temperature         0.026679  0.030836  \n",
      "precipitation       1.000000  0.998704  \n",
      "rain                0.998704  1.000000  \n"
     ]
    },
    {
     "data": {
      "image/png": "[encoded data removed]",
      "text/plain": [
       "<Figure size 1000x800 with 2 Axes>"
      ]
     },
     "metadata": {},
     "output_type": "display_data"
    }
   ],
   "source": [
    "import seaborn as sns\n",
    "\n",
    "\n",
    "data = pd.DataFrame({\n",
    "    'hourly_demand': hourly_demand['hourly_demand'],\n",
    "    'lag1_demand': hourly_demand['hourly_demand'].shift(1),\n",
    "    'lag2_demand': hourly_demand['hourly_demand'].shift(2),\n",
    "    'temperature': hourly_demand['temperature_2m'],  \n",
    "    'precipitation': hourly_demand['precipitation'],\n",
    "    'rain': hourly_demand['rain']\n",
    "})\n",
    "\n",
    "# Drop any rows with NaN values introduced by lagging\n",
    "data = data.dropna()\n",
    "\n",
    "# Step 1: Compute the correlation matrix\n",
    "correlation_matrix = data.corr()\n",
    "\n",
    "# Step 2: Display the correlation matrix\n",
    "print(correlation_matrix)\n",
    "\n",
    "# Step 3: Plot the correlation matrix using seaborn heatmap\n",
    "plt.figure(figsize=(10, 8))\n",
    "sns.heatmap(correlation_matrix, annot=True, cmap='coolwarm', vmin=-1, vmax=1)\n",
    "plt.title('Correlation Matrix of Features')\n",
    "plt.show()\n"
   ]
  },
  {
   "cell_type": "code",
   "execution_count": 166,
   "id": "dcdb6369-4d13-4a0b-8ed2-77317401c1b6",
   "metadata": {},
   "outputs": [],
   "source": [
    "# Split the data into features and target\n",
    "X = hourly_demand[['hour', 'day_of_week', 'temperature_2m', 'precipitation', 'rain', 'snowfall', 'lag_demand_1', 'lag_demand_3', 'lag_demand_6']]\n",
    "y = hourly_demand['hourly_demand']"
   ]
  },
  {
   "cell_type": "markdown",
   "id": "4af87d95-4bfb-4f56-a423-91f0ee3b62de",
   "metadata": {},
   "source": [
    "### Baseline Model"
   ]
  },
  {
   "cell_type": "markdown",
   "id": "fb2d3352-7b2b-40da-80b9-41f30b7cbc2a",
   "metadata": {},
   "source": [
    "We will use basic time series model like Simple Moving Average for predicting hourly demand "
   ]
  },
  {
   "cell_type": "code",
   "execution_count": 167,
   "id": "9c613622-8bf7-429b-a9bd-a02e0c013332",
   "metadata": {},
   "outputs": [],
   "source": [
    "#Split the data into test and training data\n",
    "X_train, X_test, y_train, y_test = train_test_split(X, y, test_size=0.2, shuffle=False)\n",
    "\n"
   ]
  },
  {
   "cell_type": "code",
   "execution_count": 168,
   "id": "121b57fb-77ec-4034-ac91-974b358a4a6e",
   "metadata": {},
   "outputs": [],
   "source": [
    "X_train_temp=hourly_demand[hourly_demand['date'].dt.month==9]"
   ]
  },
  {
   "cell_type": "code",
   "execution_count": 169,
   "id": "785f37e3-13bd-4e48-8dc1-f95e42f9cfbb",
   "metadata": {},
   "outputs": [],
   "source": [
    "X_train_temp.to_csv(\"Training_data.csv\",index=False)"
   ]
  },
  {
   "cell_type": "markdown",
   "id": "7fb10e6e-3c00-458e-8085-188ae19f86cc",
   "metadata": {},
   "source": [
    "The Simple Moving Average model predicts demand based on the average of the previous N hours."
   ]
  },
  {
   "cell_type": "code",
   "execution_count": 170,
   "id": "2c5e7cc0-9266-4be6-b892-f1b048e669c9",
   "metadata": {},
   "outputs": [],
   "source": [
    "window_size=3\n",
    "# train['moving_avg_pred'] = train['hourly_demand'].rolling(window=window_size).mean().shift(1)\n",
    "# test['moving_avg_pred'] = test['hourly_demand'].rolling(window=window_size).mean().shift(1)\n",
    "y_pred_sma = y_train.rolling(window=3).mean().shift(1).fillna(method='bfill')\n",
    "forecast_sma=hourly_demand.copy()\n",
    "forecast_sma['SMA_Prediction']=round(y_pred_sma)\n"
   ]
  },
  {
   "cell_type": "code",
   "execution_count": 171,
   "id": "554a6460-bece-4396-b636-9e812e1560f2",
   "metadata": {},
   "outputs": [
    {
     "data": {
      "text/plain": [
       "Index(['index', 'tpep_pickup_datetime', 'tpep_dropoff_datetime',\n",
       "       'passenger_count', 'trip_distance', 'PULocationID', 'DOLocationID',\n",
       "       'hour', 'hourly_demand', 'date', 'temperature_2m', 'precipitation',\n",
       "       'rain', 'snowfall', 'day_of_week', 'month', 'is_weekend',\n",
       "       'lag_demand_1', 'lag_demand_3', 'lag_demand_6', 'SMA_Prediction'],\n",
       "      dtype='object')"
      ]
     },
     "execution_count": 171,
     "metadata": {},
     "output_type": "execute_result"
    }
   ],
   "source": [
    "forecast_sma.columns"
   ]
  },
  {
   "cell_type": "code",
   "execution_count": 172,
   "id": "e545fff0-d220-4251-970d-ea45d2bfb475",
   "metadata": {},
   "outputs": [],
   "source": [
    "forecast_sma=forecast_sma[['tpep_pickup_datetime', 'tpep_dropoff_datetime',\n",
    "       'passenger_count', 'trip_distance', 'PULocationID', 'DOLocationID',\n",
    "       'hour','hourly_demand', 'SMA_Prediction']]"
   ]
  },
  {
   "cell_type": "code",
   "execution_count": 173,
   "id": "770f4155-4c47-4cca-b7ea-5c810f7f7de5",
   "metadata": {},
   "outputs": [],
   "source": [
    "# forecast_sma.to_csv(\"Baseline_Prediction.csv\",index=False)"
   ]
  },
  {
   "cell_type": "markdown",
   "id": "83f1f791-0f88-42fb-b3f3-04a27b740cd2",
   "metadata": {},
   "source": [
    "### Performance metric"
   ]
  },
  {
   "cell_type": "code",
   "execution_count": 174,
   "id": "57bbde33-5aa7-4d85-8634-7a90ac790f9f",
   "metadata": {},
   "outputs": [
    {
     "name": "stdout",
     "output_type": "stream",
     "text": [
      "Baseline Model - SMA\n",
      "MAE: 0.8076774947122518, MSE: 3.957155033620608, R-squared: 0.9246313996088382, RMSE: 1.9892599210813573\n"
     ]
    }
   ],
   "source": [
    "#Mean Absolute Error and Mean Squared error for Baseline models\n",
    "baseline_mae = mean_absolute_error(y_train, y_pred_sma)\n",
    "baseline_mse = mean_squared_error(y_train, y_pred_sma)\n",
    "baseline_r2 = r2_score(y_train, y_pred_sma)\n",
    "baseline_rmse= np.sqrt(mean_squared_error(y_train, y_pred_sma))\n",
    "\n",
    "\n",
    "print(\"Baseline Model - SMA\")\n",
    "print(f\"MAE: {baseline_mae}, MSE: {baseline_mse}, R-squared: {baseline_r2}, RMSE: {baseline_rmse}\" )"
   ]
  },
  {
   "cell_type": "markdown",
   "id": "5776d22c-faac-42de-8a0d-0f45f8d0c5e4",
   "metadata": {},
   "source": [
    "#### I chose MAE,MSE and R2 for the following reasons:\n",
    "       MAE 's Robustness to Outliers and Interpretability,\n",
    "       \n",
    "       MSE's mathematical Properties and Sensitivity to Outliers,\n",
    "       \n",
    "       R2 explains the variance\n",
    "   "
   ]
  },
  {
   "cell_type": "code",
   "execution_count": 175,
   "id": "67c391a0-f48f-4fc4-a6f7-1a65e4c1ddd6",
   "metadata": {},
   "outputs": [],
   "source": [
    "# test.to_csv(\"Baseline_Model_Pred.csv\",index=False)"
   ]
  },
  {
   "cell_type": "markdown",
   "id": "78aeefda-ad92-4908-9b39-5c1ab5e74ba2",
   "metadata": {},
   "source": [
    "#### Simple Moving Average is chosen as the Baseline Model because its good for predicting short term forecasts and can be easily customized based on the window size where a larger window will smooth the data more but may lag behind sudden changes, while a smaller window will be more responsive to recent changes in the time series.Its also best for reducing noise from the data."
   ]
  },
  {
   "cell_type": "markdown",
   "id": "aa8c1555-3a42-4666-b931-bf4df5e18cd3",
   "metadata": {},
   "source": [
    "### Improved Model"
   ]
  },
  {
   "cell_type": "code",
   "execution_count": 176,
   "id": "914fb6c4-2e91-4315-bf38-69599e7a3953",
   "metadata": {},
   "outputs": [
    {
     "name": "stdout",
     "output_type": "stream",
     "text": [
      "Improved Linear Regression Model - MAE: 0.6124956522215356\n",
      "Improved Linear Regression Model - MSE: 3.29071945124576\n",
      "Improved Linear Regression Model - R-squared: 0.9429502621677748\n",
      "Improved Linear Regression Model - RMSE: 1.814034027036362\n"
     ]
    }
   ],
   "source": [
    "linear_model = LinearRegression()\n",
    "linear_model.fit(X_train, y_train)\n",
    "\n",
    "# Make predictions on the test set\n",
    "y_pred = linear_model.predict(X_test)\n",
    "\n",
    "# Evaluate model performance\n",
    "mae = mean_absolute_error(y_test, y_pred)\n",
    "mse = mean_squared_error(y_test, y_pred)\n",
    "r2 = r2_score(y_test, y_pred)\n",
    "rmse= np.sqrt(mean_squared_error(y_test, y_pred))\n",
    "\n",
    "# Display results\n",
    "print(f\"Improved Linear Regression Model - MAE: {mae}\")\n",
    "print(f\"Improved Linear Regression Model - MSE: {mse}\")\n",
    "print(f\"Improved Linear Regression Model - R-squared: {r2}\")\n",
    "print(f\"Improved Linear Regression Model - RMSE: {rmse}\")\n"
   ]
  },
  {
   "cell_type": "code",
   "execution_count": 177,
   "id": "647a52c7-c343-4874-b3b1-105e7df5d7f0",
   "metadata": {},
   "outputs": [],
   "source": [
    "forecast_lr = X_test.reset_index()\n"
   ]
  },
  {
   "cell_type": "code",
   "execution_count": 178,
   "id": "77728b04-28af-4128-a48d-07ca2742edd3",
   "metadata": {},
   "outputs": [
    {
     "data": {
      "text/plain": [
       "Index(['hour', 'day_of_week', 'temperature_2m', 'precipitation', 'rain',\n",
       "       'snowfall', 'lag_demand_1', 'lag_demand_3', 'lag_demand_6'],\n",
       "      dtype='object')"
      ]
     },
     "execution_count": 178,
     "metadata": {},
     "output_type": "execute_result"
    }
   ],
   "source": [
    "X_test.columns"
   ]
  },
  {
   "cell_type": "code",
   "execution_count": 179,
   "id": "70763b7e-451a-442e-837b-f2785b66cd52",
   "metadata": {},
   "outputs": [],
   "source": [
    "forecast_lr=X_test[['hour', 'day_of_week', 'temperature_2m', 'precipitation',\n",
    "       'rain', 'snowfall']].copy()"
   ]
  },
  {
   "cell_type": "code",
   "execution_count": 180,
   "id": "613adae3-0aa3-46fc-93fb-a907d097847f",
   "metadata": {},
   "outputs": [],
   "source": [
    "forecast_lr['Predicted_demand_LR']=y_pred"
   ]
  },
  {
   "cell_type": "code",
   "execution_count": 181,
   "id": "c0835e66-ae19-432f-9681-3beb8db8a251",
   "metadata": {},
   "outputs": [],
   "source": [
    "forecast_lr['Predicted_demand_LR']=round(forecast_lr['Predicted_demand_LR'])"
   ]
  },
  {
   "cell_type": "code",
   "execution_count": 182,
   "id": "fe9dedcd-8c8b-4653-bc6b-d88094ab4839",
   "metadata": {},
   "outputs": [],
   "source": [
    "# forecast_lr.to_csv(\"Improved_model_pred_LR.csv\",index=False)"
   ]
  },
  {
   "cell_type": "markdown",
   "id": "998b5a69-b467-4aa7-a3a7-752482196b50",
   "metadata": {},
   "source": [
    "### Best Model"
   ]
  },
  {
   "cell_type": "code",
   "execution_count": 183,
   "id": "fd56a57f-5c78-4100-b123-fa841d00da4b",
   "metadata": {},
   "outputs": [
    {
     "name": "stdout",
     "output_type": "stream",
     "text": [
      "Ridge Regression Model - MAE: 0.6126531759564379\n",
      "Ridge Regression Model - MSE: 3.2908009464255925\n",
      "Ridge Regression Model - R-squared: 0.9429488493221302\n",
      "Ridge Regression Model - RMSE: 1.8140564893149256\n"
     ]
    }
   ],
   "source": [
    "# Ridge Regression (L2 regularization) - Hyperparameter Tuning using GridSearchCV\n",
    "ridge = Ridge()\n",
    "param_grid_ridge = {'alpha': [0.1, 1, 10, 100]}\n",
    "grid_search_ridge = GridSearchCV(ridge, param_grid_ridge, cv=5, scoring='neg_mean_squared_error')\n",
    "grid_search_ridge.fit(X_train, y_train)\n",
    "\n",
    "best_ridge = grid_search_ridge.best_estimator_\n",
    "y_pred_ridge = best_ridge.predict(X_test)\n",
    "\n",
    "# Evaluate Ridge Regression model performance\n",
    "mae_ridge = mean_absolute_error(y_test, y_pred_ridge)\n",
    "mse_ridge = mean_squared_error(y_test, y_pred_ridge)\n",
    "r2_ridge = r2_score(y_test, y_pred_ridge)\n",
    "rmse_ridge=np.sqrt(mean_squared_error(y_test, y_pred_ridge))\n",
    "\n",
    "\n",
    "print(f\"Ridge Regression Model - MAE: {mae_ridge}\")\n",
    "print(f\"Ridge Regression Model - MSE: {mse_ridge}\")\n",
    "print(f\"Ridge Regression Model - R-squared: {r2_ridge}\")\n",
    "print(f\"Ridge Regression Model - RMSE: {rmse_ridge}\")\n",
    "\n"
   ]
  },
  {
   "cell_type": "code",
   "execution_count": 184,
   "id": "8170d684-9cc6-497d-871d-e0d84b73ba80",
   "metadata": {},
   "outputs": [
    {
     "name": "stdout",
     "output_type": "stream",
     "text": [
      "Lasso Regression Model - MAE: 0.6087325872024463\n",
      "Lasso Regression Model - MSE: 3.289364538028328\n",
      "Lasso Regression Model - R-squared: 0.9429737516949086\n",
      "Lasso Regression Model - RMSE: 1.8136605354994986\n"
     ]
    }
   ],
   "source": [
    "# Lasso Regression (L1 regularization) - Hyperparameter Tuning using GridSearchCV\n",
    "lasso = Lasso()\n",
    "param_grid_lasso = {'alpha': [0.001, 0.01, 0.1, 1]}\n",
    "grid_search_lasso = GridSearchCV(lasso, param_grid_lasso, cv=5, scoring='neg_mean_squared_error')\n",
    "grid_search_lasso.fit(X_train, y_train)\n",
    "\n",
    "best_lasso = grid_search_lasso.best_estimator_\n",
    "y_pred_lasso = best_lasso.predict(X_test)\n",
    "\n",
    "# Evaluate Lasso Regression model performance\n",
    "mae_lasso = mean_absolute_error(y_test, y_pred_lasso)\n",
    "mse_lasso = mean_squared_error(y_test, y_pred_lasso)\n",
    "r2_lasso = r2_score(y_test, y_pred_lasso)\n",
    "rmse_lasso=np.sqrt(mean_squared_error(y_test, y_pred_lasso))\n",
    "\n",
    "print(f\"Lasso Regression Model - MAE: {mae_lasso}\")\n",
    "print(f\"Lasso Regression Model - MSE: {mse_lasso}\")\n",
    "print(f\"Lasso Regression Model - R-squared: {r2_lasso}\")\n",
    "print(f\"Lasso Regression Model - RMSE: {rmse_lasso}\")\n"
   ]
  },
  {
   "cell_type": "code",
   "execution_count": 185,
   "id": "55fb188c-a436-4c6c-a552-bd2ba4e5df9d",
   "metadata": {},
   "outputs": [],
   "source": [
    "# data = hourly_demand['hourly_demand'].values\n",
    "# data = data.reshape(-1, 1)\n",
    "# scaler = MinMaxScaler(feature_range=(0, 1))\n",
    "# scaled_data = scaler.fit_transform(data)\n",
    "\n",
    "# def create_sequences(data, time_step=24):\n",
    "#     X, y = [], []\n",
    "#     for i in range(len(data) - time_step):\n",
    "#         X.append(data[i:i + time_step, 0])\n",
    "#         y.append(data[i + time_step, 0])\n",
    "#     return np.array(X), np.array(y)\n",
    "\n",
    "# time_step = 24\n",
    "# X, y = create_sequences(scaled_data, time_step)\n",
    "\n",
    "# # Reshape X to be [samples, time steps, features] to fit LSTM input\n",
    "# X = X.reshape(X.shape[0], X.shape[1], 1)\n",
    "\n",
    "# # Split the data into training and test sets (e.g., 80% training, 20% test)\n",
    "# train_size = int(len(X) * 0.8)\n",
    "# X_train, X_test = X[:train_size], X[train_size:]\n",
    "# y_train, y_test = y[:train_size], y[train_size:]"
   ]
  },
  {
   "cell_type": "code",
   "execution_count": 186,
   "id": "3df99b4a-5089-4ac3-925a-28c1b1bbfe98",
   "metadata": {},
   "outputs": [],
   "source": [
    "# # Define the LSTM model\n",
    "# model = Sequential()\n",
    "# model.add(LSTM(units=50, return_sequences=True, input_shape=(time_step, 1)))\n",
    "# model.add(Dropout(0.2))  # To prevent overfitting\n",
    "# model.add(LSTM(units=50, return_sequences=False))\n",
    "# model.add(Dropout(0.2))\n",
    "# model.add(Dense(units=25))\n",
    "# model.add(Dense(units=1))  # Output layer\n",
    "\n",
    "# # Compile the model\n",
    "# model.compile(optimizer='adam', loss='mean_squared_error')\n",
    "\n",
    "# # Train the model\n",
    "# model.fit(X_train, y_train, batch_size=64, epochs=10)  # Adjust epochs/batch_size as needed\n"
   ]
  },
  {
   "cell_type": "code",
   "execution_count": 187,
   "id": "212238fb-6848-48b4-b94f-46eaf7542cb4",
   "metadata": {},
   "outputs": [],
   "source": [
    "# # Make predictions\n",
    "# train_predict = model.predict(X_train)\n",
    "# test_predict = model.predict(X_test)\n",
    "\n",
    "# # Inverse transform predictions to original scale\n",
    "# train_predict = scaler.inverse_transform(train_predict.reshape(-1, 1))\n",
    "# test_predict = scaler.inverse_transform(test_predict.reshape(-1, 1))\n",
    "\n",
    "# # Inverse transform actual y values\n",
    "# y_train_original = scaler.inverse_transform(y_train.reshape(-1, 1))\n",
    "# y_test_original = scaler.inverse_transform(y_test.reshape(-1, 1))\n",
    "\n",
    "# # Calculate RMSE\n",
    "# from sklearn.metrics import mean_squared_error\n",
    "# train_rmse = np.sqrt(mean_squared_error(y_train_original, train_predict))\n",
    "# test_rmse = np.sqrt(mean_squared_error(y_test_original, test_predict))\n",
    "# mae_lstm= mean_absolute_error(y_test_original, test_predict)\n",
    "# mse_lstm = mean_squared_error(y_test_original, test_predict)\n",
    "\n",
    "# print(f\"LSTM Model - MAE: {mae_lstm}\")\n",
    "# print(f\"LSTM Model - MSE: {mse_lstm}\")\n",
    "\n",
    "# print(f'Train RMSE: {train_rmse}')\n",
    "# print(f'Test RMSE: {test_rmse}')\n"
   ]
  },
  {
   "cell_type": "code",
   "execution_count": 191,
   "id": "d91ff1c2-57eb-4967-aeda-f91bac20f9a3",
   "metadata": {},
   "outputs": [],
   "source": [
    "\n",
    "# # Create features (X) and target variable (y)\n",
    "# X = hourly_demand[['day_of_week', 'month', 'is_weekend']]  # Use more features if relevant\n",
    "# y = hourly_demand['hourly_demand']\n",
    "\n",
    "# Store original indices before splitting\n",
    "original_indices = hourly_demand.index\n",
    "\n",
    "#Split data into training and test sets (shuffle=False to preserve the time order)\n",
    "X_train, X_test, y_train, y_test, = train_test_split(\n",
    "    X, y, test_size=0.2, shuffle=False\n",
    ")\n",
    "\n",
    "# Split the indices\n",
    "train_indices, test_indices = train_test_split(\n",
    "    original_indices, test_size=0.2, shuffle=False\n",
    ")\n",
    "# Initialize and train the XGBoost model\n",
    "xgb_model = xgb.XGBRegressor(objective='reg:squarederror', n_estimators=100, learning_rate=0.1)\n",
    "xgb_model.fit(X_train, y_train)\n",
    "\n",
    "# Make predictions on the test set\n",
    "xgb_predictions = xgb_model.predict(X_test)\n",
    "\n",
    "# Align predictions with the original timestamps by using the stored 'test_indices'\n",
    "xgb_predictions_df = pd.DataFrame({\n",
    "    'tpep_pickup_datetime': hourly_demand.loc[test_indices, 'tpep_pickup_datetime'],\n",
    "    'xgb_prediction': xgb_predictions\n",
    "})\n",
    "\n"
   ]
  },
  {
   "cell_type": "code",
   "execution_count": 215,
   "id": "601552ad-f5dd-4151-ae85-9b1f31c6b946",
   "metadata": {},
   "outputs": [
    {
     "name": "stdout",
     "output_type": "stream",
     "text": [
      "XGBoost Model - MAE: 1.3513001530755153\n",
      "XGBoost Model - MSE: 11.364287405194576\n",
      "XGBoost Model - R-squared: 0.802982409554551\n"
     ]
    }
   ],
   "source": [
    "# Calculate MAE, MSE, and R-squared\n",
    "mae_xgb = mean_absolute_error(y_test, xgb_predictions)\n",
    "mse_xgb = mean_squared_error(y_test, xgb_predictions)\n",
    "r2_xgb = r2_score(y_test, xgb_predictions)\n",
    "\n",
    "# Display the performance metrics\n",
    "print(f\"XGBoost Model - MAE: {mae_xgb}\")\n",
    "print(f\"XGBoost Model - MSE: {mse_xgb}\")\n",
    "print(f\"XGBoost Model - R-squared: {r2_xgb}\")\n"
   ]
  },
  {
   "cell_type": "code",
   "execution_count": 193,
   "id": "303fa1cb-9778-4506-ace1-69568bd739bd",
   "metadata": {},
   "outputs": [
    {
     "name": "stdout",
     "output_type": "stream",
     "text": [
      "\n",
      "Model Comparison:\n",
      "Baseline MAE: 0.8076774947122518, Improved MAE (Linear Regression): 0.6124956522215356, Best Lasso MAE: 0.6087325872024463\n",
      "Baseline MSE: 3.957155033620608, Improved MSE (Linear Regression): 3.29071945124576, Best Lasso MSE: 3.289364538028328\n",
      "Baseline R-squared: 0.9246313996088382, Improved R-squared (Linear Regression): 0.9429502621677748, Best Lasso R-squared: 0.9429737516949086\n"
     ]
    }
   ],
   "source": [
    "print(\"\\nModel Comparison:\")\n",
    "print(f\"Baseline MAE: {baseline_mae}, Improved MAE (Linear Regression): {mae}, Best Lasso MAE: {mae_lasso}\")\n",
    "print(f\"Baseline MSE: {baseline_mse}, Improved MSE (Linear Regression): {mse}, Best Lasso MSE: {mse_lasso}\")\n",
    "print(f\"Baseline R-squared: {baseline_r2}, Improved R-squared (Linear Regression): {r2}, Best Lasso R-squared: {r2_lasso}\")\n"
   ]
  },
  {
   "cell_type": "markdown",
   "id": "43c656e4-c302-4eba-986e-20298ff6288f",
   "metadata": {},
   "source": [
    "#### Best Model: Based on the performance metrics:\n",
    "    MAE: The model with the lowest MAE is preferred, indicating it has the smallest average error in predictions.\n",
    "    MSE: Similarly, the model with the lowest MSE is generally considered better since it penalizes larger errors more heavily.\n",
    "    R-squared: The model with the highest R-squared value is the best in terms of explained variance.\n",
    "\n",
    "#### Best Model: Lasso Regression has the lowest MAE and MSE, and the highest R-squared value among the models compared.\n",
    "    Lasso Regression:\n",
    "    MAE: 0.6087\n",
    "    MSE: 3.2894\n",
    "    R-squared: 0.94297\n",
    "####  The Lasso Regression model is the best choice for predicting hourly taxi demand based on the provided metrics."
   ]
  },
  {
   "cell_type": "markdown",
   "id": "9794063e-fd36-4c73-bd50-16d2b103bfba",
   "metadata": {},
   "source": [
    "## Forecasting the First Week of September 2024:\n",
    "\n"
   ]
  },
  {
   "cell_type": "code",
   "execution_count": 194,
   "id": "c25b826f-a386-4a70-afa4-64b1a903e57a",
   "metadata": {},
   "outputs": [],
   "source": [
    "def create_forecast_dates(start_date, hours):\n",
    "    return [start_date + timedelta(hours=i) for i in range(hours)]\n",
    "\n",
    "# Define the start and end dates for the first week of September 2024\n",
    "start_date = datetime(2024, 9, 1)\n",
    "forecast_hours = 24 * 7  # 7 days * 24 hours\n",
    "\n",
    "# Generate a DataFrame with the forecast dates\n",
    "forecast_dates = create_forecast_dates(start_date, forecast_hours)\n",
    "forecast_data = pd.DataFrame({'tpep_pickup_datetime': forecast_dates})"
   ]
  },
  {
   "cell_type": "code",
   "execution_count": 195,
   "id": "d3771659-7635-4e44-a3a8-9b4fe8a4b0e6",
   "metadata": {},
   "outputs": [
    {
     "data": {
      "text/html": [
       "<div>\n",
       "<style scoped>\n",
       "    .dataframe tbody tr th:only-of-type {\n",
       "        vertical-align: middle;\n",
       "    }\n",
       "\n",
       "    .dataframe tbody tr th {\n",
       "        vertical-align: top;\n",
       "    }\n",
       "\n",
       "    .dataframe thead th {\n",
       "        text-align: right;\n",
       "    }\n",
       "</style>\n",
       "<table border=\"1\" class=\"dataframe\">\n",
       "  <thead>\n",
       "    <tr style=\"text-align: right;\">\n",
       "      <th></th>\n",
       "      <th>tpep_pickup_datetime</th>\n",
       "    </tr>\n",
       "  </thead>\n",
       "  <tbody>\n",
       "    <tr>\n",
       "      <th>0</th>\n",
       "      <td>2024-09-01 00:00:00</td>\n",
       "    </tr>\n",
       "    <tr>\n",
       "      <th>1</th>\n",
       "      <td>2024-09-01 01:00:00</td>\n",
       "    </tr>\n",
       "    <tr>\n",
       "      <th>2</th>\n",
       "      <td>2024-09-01 02:00:00</td>\n",
       "    </tr>\n",
       "    <tr>\n",
       "      <th>3</th>\n",
       "      <td>2024-09-01 03:00:00</td>\n",
       "    </tr>\n",
       "    <tr>\n",
       "      <th>4</th>\n",
       "      <td>2024-09-01 04:00:00</td>\n",
       "    </tr>\n",
       "    <tr>\n",
       "      <th>...</th>\n",
       "      <td>...</td>\n",
       "    </tr>\n",
       "    <tr>\n",
       "      <th>163</th>\n",
       "      <td>2024-09-07 19:00:00</td>\n",
       "    </tr>\n",
       "    <tr>\n",
       "      <th>164</th>\n",
       "      <td>2024-09-07 20:00:00</td>\n",
       "    </tr>\n",
       "    <tr>\n",
       "      <th>165</th>\n",
       "      <td>2024-09-07 21:00:00</td>\n",
       "    </tr>\n",
       "    <tr>\n",
       "      <th>166</th>\n",
       "      <td>2024-09-07 22:00:00</td>\n",
       "    </tr>\n",
       "    <tr>\n",
       "      <th>167</th>\n",
       "      <td>2024-09-07 23:00:00</td>\n",
       "    </tr>\n",
       "  </tbody>\n",
       "</table>\n",
       "<p>168 rows × 1 columns</p>\n",
       "</div>"
      ],
      "text/plain": [
       "    tpep_pickup_datetime\n",
       "0    2024-09-01 00:00:00\n",
       "1    2024-09-01 01:00:00\n",
       "2    2024-09-01 02:00:00\n",
       "3    2024-09-01 03:00:00\n",
       "4    2024-09-01 04:00:00\n",
       "..                   ...\n",
       "163  2024-09-07 19:00:00\n",
       "164  2024-09-07 20:00:00\n",
       "165  2024-09-07 21:00:00\n",
       "166  2024-09-07 22:00:00\n",
       "167  2024-09-07 23:00:00\n",
       "\n",
       "[168 rows x 1 columns]"
      ]
     },
     "execution_count": 195,
     "metadata": {},
     "output_type": "execute_result"
    }
   ],
   "source": [
    "forecast_data"
   ]
  },
  {
   "cell_type": "markdown",
   "id": "b2830401-2710-45d4-8486-d666d7578dc9",
   "metadata": {},
   "source": [
    "### Feature Selection"
   ]
  },
  {
   "cell_type": "code",
   "execution_count": 196,
   "id": "20f3cbbf-3065-4243-81b6-840f6843d5eb",
   "metadata": {},
   "outputs": [],
   "source": [
    "forecast_data['hour'] = forecast_data['tpep_pickup_datetime'].dt.hour\n",
    "forecast_data['day_of_week'] = forecast_data['tpep_pickup_datetime'].dt.dayofweek"
   ]
  },
  {
   "cell_type": "code",
   "execution_count": 197,
   "id": "851d002d-5675-48fe-b30e-a52916e4a510",
   "metadata": {},
   "outputs": [],
   "source": [
    "hourly_demand['lag_demand_2']=hourly_demand['hourly_demand'].shift(2)"
   ]
  },
  {
   "cell_type": "code",
   "execution_count": 198,
   "id": "af35c1ba-b5fb-469a-befe-0b85eca5a159",
   "metadata": {},
   "outputs": [
    {
     "data": {
      "text/plain": [
       "Index(['index', 'tpep_pickup_datetime', 'tpep_dropoff_datetime',\n",
       "       'passenger_count', 'trip_distance', 'PULocationID', 'DOLocationID',\n",
       "       'hour', 'hourly_demand', 'date', 'temperature_2m', 'precipitation',\n",
       "       'rain', 'snowfall', 'day_of_week', 'month', 'is_weekend',\n",
       "       'lag_demand_1', 'lag_demand_3', 'lag_demand_6', 'lag_demand_2'],\n",
       "      dtype='object')"
      ]
     },
     "execution_count": 198,
     "metadata": {},
     "output_type": "execute_result"
    }
   ],
   "source": [
    "hourly_demand.columns"
   ]
  },
  {
   "cell_type": "code",
   "execution_count": 199,
   "id": "0831a40a-6a7b-4e16-8832-d905fac9628f",
   "metadata": {},
   "outputs": [],
   "source": [
    "hourly_demand['rolling_mean_3'] = hourly_demand['hourly_demand'].rolling(window=3).mean()\n",
    "hourly_demand = hourly_demand.dropna()\n"
   ]
  },
  {
   "cell_type": "code",
   "execution_count": 200,
   "id": "e0f35cc3-ff05-4c8c-ab97-c85d2f0c2b90",
   "metadata": {},
   "outputs": [],
   "source": [
    "X = hourly_demand[['hour', 'day_of_week', \n",
    "       'lag_demand_1', 'lag_demand_3', 'lag_demand_2', \"rolling_mean_3\"]]\n",
    "y = hourly_demand['hourly_demand']"
   ]
  },
  {
   "cell_type": "code",
   "execution_count": 201,
   "id": "981e4219-ee39-492e-8b0d-1d2cb10f0db6",
   "metadata": {},
   "outputs": [],
   "source": [
    "scaler = StandardScaler()\n",
    "X_scaled = scaler.fit_transform(X)"
   ]
  },
  {
   "cell_type": "code",
   "execution_count": 202,
   "id": "7ee02158-8f63-4935-b469-35c2d704a77d",
   "metadata": {},
   "outputs": [
    {
     "data": {
      "text/html": [
       "<style>#sk-container-id-1 {color: black;background-color: white;}#sk-container-id-1 pre{padding: 0;}#sk-container-id-1 div.sk-toggleable {background-color: white;}#sk-container-id-1 label.sk-toggleable__label {cursor: pointer;display: block;width: 100%;margin-bottom: 0;padding: 0.3em;box-sizing: border-box;text-align: center;}#sk-container-id-1 label.sk-toggleable__label-arrow:before {content: \"▸\";float: left;margin-right: 0.25em;color: #696969;}#sk-container-id-1 label.sk-toggleable__label-arrow:hover:before {color: black;}#sk-container-id-1 div.sk-estimator:hover label.sk-toggleable__label-arrow:before {color: black;}#sk-container-id-1 div.sk-toggleable__content {max-height: 0;max-width: 0;overflow: hidden;text-align: left;background-color: #f0f8ff;}#sk-container-id-1 div.sk-toggleable__content pre {margin: 0.2em;color: black;border-radius: 0.25em;background-color: #f0f8ff;}#sk-container-id-1 input.sk-toggleable__control:checked~div.sk-toggleable__content {max-height: 200px;max-width: 100%;overflow: auto;}#sk-container-id-1 input.sk-toggleable__control:checked~label.sk-toggleable__label-arrow:before {content: \"▾\";}#sk-container-id-1 div.sk-estimator input.sk-toggleable__control:checked~label.sk-toggleable__label {background-color: #d4ebff;}#sk-container-id-1 div.sk-label input.sk-toggleable__control:checked~label.sk-toggleable__label {background-color: #d4ebff;}#sk-container-id-1 input.sk-hidden--visually {border: 0;clip: rect(1px 1px 1px 1px);clip: rect(1px, 1px, 1px, 1px);height: 1px;margin: -1px;overflow: hidden;padding: 0;position: absolute;width: 1px;}#sk-container-id-1 div.sk-estimator {font-family: monospace;background-color: #f0f8ff;border: 1px dotted black;border-radius: 0.25em;box-sizing: border-box;margin-bottom: 0.5em;}#sk-container-id-1 div.sk-estimator:hover {background-color: #d4ebff;}#sk-container-id-1 div.sk-parallel-item::after {content: \"\";width: 100%;border-bottom: 1px solid gray;flex-grow: 1;}#sk-container-id-1 div.sk-label:hover label.sk-toggleable__label {background-color: #d4ebff;}#sk-container-id-1 div.sk-serial::before {content: \"\";position: absolute;border-left: 1px solid gray;box-sizing: border-box;top: 0;bottom: 0;left: 50%;z-index: 0;}#sk-container-id-1 div.sk-serial {display: flex;flex-direction: column;align-items: center;background-color: white;padding-right: 0.2em;padding-left: 0.2em;position: relative;}#sk-container-id-1 div.sk-item {position: relative;z-index: 1;}#sk-container-id-1 div.sk-parallel {display: flex;align-items: stretch;justify-content: center;background-color: white;position: relative;}#sk-container-id-1 div.sk-item::before, #sk-container-id-1 div.sk-parallel-item::before {content: \"\";position: absolute;border-left: 1px solid gray;box-sizing: border-box;top: 0;bottom: 0;left: 50%;z-index: -1;}#sk-container-id-1 div.sk-parallel-item {display: flex;flex-direction: column;z-index: 1;position: relative;background-color: white;}#sk-container-id-1 div.sk-parallel-item:first-child::after {align-self: flex-end;width: 50%;}#sk-container-id-1 div.sk-parallel-item:last-child::after {align-self: flex-start;width: 50%;}#sk-container-id-1 div.sk-parallel-item:only-child::after {width: 0;}#sk-container-id-1 div.sk-dashed-wrapped {border: 1px dashed gray;margin: 0 0.4em 0.5em 0.4em;box-sizing: border-box;padding-bottom: 0.4em;background-color: white;}#sk-container-id-1 div.sk-label label {font-family: monospace;font-weight: bold;display: inline-block;line-height: 1.2em;}#sk-container-id-1 div.sk-label-container {text-align: center;}#sk-container-id-1 div.sk-container {/* jupyter's `normalize.less` sets `[hidden] { display: none; }` but bootstrap.min.css set `[hidden] { display: none !important; }` so we also need the `!important` here to be able to override the default hidden behavior on the sphinx rendered scikit-learn.org. See: https://github.com/scikit-learn/scikit-learn/issues/21755 */display: inline-block !important;position: relative;}#sk-container-id-1 div.sk-text-repr-fallback {display: none;}</style><div id=\"sk-container-id-1\" class=\"sk-top-container\"><div class=\"sk-text-repr-fallback\"><pre>Lasso(alpha=0.01)</pre><b>In a Jupyter environment, please rerun this cell to show the HTML representation or trust the notebook. <br />On GitHub, the HTML representation is unable to render, please try loading this page with nbviewer.org.</b></div><div class=\"sk-container\" hidden><div class=\"sk-item\"><div class=\"sk-estimator sk-toggleable\"><input class=\"sk-toggleable__control sk-hidden--visually\" id=\"sk-estimator-id-1\" type=\"checkbox\" checked><label for=\"sk-estimator-id-1\" class=\"sk-toggleable__label sk-toggleable__label-arrow\">Lasso</label><div class=\"sk-toggleable__content\"><pre>Lasso(alpha=0.01)</pre></div></div></div></div></div>"
      ],
      "text/plain": [
       "Lasso(alpha=0.01)"
      ]
     },
     "execution_count": 202,
     "metadata": {},
     "output_type": "execute_result"
    }
   ],
   "source": [
    "# Train Lasso Regression Model\n",
    "lasso_model = Lasso(alpha=grid_search_lasso.best_params_['alpha']) \n",
    "lasso_model.fit(X_scaled, y)"
   ]
  },
  {
   "cell_type": "code",
   "execution_count": 203,
   "id": "0db3250e-2a33-449f-b667-4e2748ac1a80",
   "metadata": {},
   "outputs": [
    {
     "data": {
      "text/plain": [
       "array([24, 24, 24], dtype=int64)"
      ]
     },
     "execution_count": 203,
     "metadata": {},
     "output_type": "execute_result"
    }
   ],
   "source": [
    "hourly_demand['hourly_demand'].iloc[-3:].values"
   ]
  },
  {
   "cell_type": "code",
   "execution_count": 204,
   "id": "8d55fd31-529b-4dc8-9038-ae651a3e3bc9",
   "metadata": {},
   "outputs": [
    {
     "data": {
      "text/html": [
       "<div>\n",
       "<style scoped>\n",
       "    .dataframe tbody tr th:only-of-type {\n",
       "        vertical-align: middle;\n",
       "    }\n",
       "\n",
       "    .dataframe tbody tr th {\n",
       "        vertical-align: top;\n",
       "    }\n",
       "\n",
       "    .dataframe thead th {\n",
       "        text-align: right;\n",
       "    }\n",
       "</style>\n",
       "<table border=\"1\" class=\"dataframe\">\n",
       "  <thead>\n",
       "    <tr style=\"text-align: right;\">\n",
       "      <th></th>\n",
       "      <th>tpep_pickup_datetime</th>\n",
       "      <th>hour</th>\n",
       "      <th>day_of_week</th>\n",
       "    </tr>\n",
       "  </thead>\n",
       "  <tbody>\n",
       "    <tr>\n",
       "      <th>0</th>\n",
       "      <td>2024-09-01 00:00:00</td>\n",
       "      <td>0</td>\n",
       "      <td>6</td>\n",
       "    </tr>\n",
       "    <tr>\n",
       "      <th>1</th>\n",
       "      <td>2024-09-01 01:00:00</td>\n",
       "      <td>1</td>\n",
       "      <td>6</td>\n",
       "    </tr>\n",
       "    <tr>\n",
       "      <th>2</th>\n",
       "      <td>2024-09-01 02:00:00</td>\n",
       "      <td>2</td>\n",
       "      <td>6</td>\n",
       "    </tr>\n",
       "    <tr>\n",
       "      <th>3</th>\n",
       "      <td>2024-09-01 03:00:00</td>\n",
       "      <td>3</td>\n",
       "      <td>6</td>\n",
       "    </tr>\n",
       "    <tr>\n",
       "      <th>4</th>\n",
       "      <td>2024-09-01 04:00:00</td>\n",
       "      <td>4</td>\n",
       "      <td>6</td>\n",
       "    </tr>\n",
       "    <tr>\n",
       "      <th>...</th>\n",
       "      <td>...</td>\n",
       "      <td>...</td>\n",
       "      <td>...</td>\n",
       "    </tr>\n",
       "    <tr>\n",
       "      <th>163</th>\n",
       "      <td>2024-09-07 19:00:00</td>\n",
       "      <td>19</td>\n",
       "      <td>5</td>\n",
       "    </tr>\n",
       "    <tr>\n",
       "      <th>164</th>\n",
       "      <td>2024-09-07 20:00:00</td>\n",
       "      <td>20</td>\n",
       "      <td>5</td>\n",
       "    </tr>\n",
       "    <tr>\n",
       "      <th>165</th>\n",
       "      <td>2024-09-07 21:00:00</td>\n",
       "      <td>21</td>\n",
       "      <td>5</td>\n",
       "    </tr>\n",
       "    <tr>\n",
       "      <th>166</th>\n",
       "      <td>2024-09-07 22:00:00</td>\n",
       "      <td>22</td>\n",
       "      <td>5</td>\n",
       "    </tr>\n",
       "    <tr>\n",
       "      <th>167</th>\n",
       "      <td>2024-09-07 23:00:00</td>\n",
       "      <td>23</td>\n",
       "      <td>5</td>\n",
       "    </tr>\n",
       "  </tbody>\n",
       "</table>\n",
       "<p>168 rows × 3 columns</p>\n",
       "</div>"
      ],
      "text/plain": [
       "    tpep_pickup_datetime  hour  day_of_week\n",
       "0    2024-09-01 00:00:00     0            6\n",
       "1    2024-09-01 01:00:00     1            6\n",
       "2    2024-09-01 02:00:00     2            6\n",
       "3    2024-09-01 03:00:00     3            6\n",
       "4    2024-09-01 04:00:00     4            6\n",
       "..                   ...   ...          ...\n",
       "163  2024-09-07 19:00:00    19            5\n",
       "164  2024-09-07 20:00:00    20            5\n",
       "165  2024-09-07 21:00:00    21            5\n",
       "166  2024-09-07 22:00:00    22            5\n",
       "167  2024-09-07 23:00:00    23            5\n",
       "\n",
       "[168 rows x 3 columns]"
      ]
     },
     "execution_count": 204,
     "metadata": {},
     "output_type": "execute_result"
    }
   ],
   "source": [
    "forecast_data"
   ]
  },
  {
   "cell_type": "markdown",
   "id": "6f354526-cff5-4e57-ae75-7441f1a61679",
   "metadata": {},
   "source": [
    "#### Forecasting Demand using Lasso\n"
   ]
  },
  {
   "cell_type": "code",
   "execution_count": 205,
   "id": "c0ef9ba9-a8ec-4d8a-9c56-e18ef182791c",
   "metadata": {},
   "outputs": [],
   "source": [
    "latest_demand = hourly_demand['hourly_demand'].iloc[-3:].values  # last three known demand values\n"
   ]
  },
  {
   "cell_type": "code",
   "execution_count": 213,
   "id": "958c8879-3eeb-442f-8642-c50efce0b3b1",
   "metadata": {},
   "outputs": [
    {
     "name": "stdout",
     "output_type": "stream",
     "text": [
      "         date  hour  day_of_week  XGB_demand\n",
      "8  2023-01-01     1            6         7.0\n",
      "9  2023-01-01     1            6         4.0\n",
      "10 2023-01-01     1            6         4.0\n",
      "11 2023-01-01     1            6         4.0\n",
      "12 2023-01-01     2            6         4.0\n"
     ]
    }
   ],
   "source": [
    "X_forecast = hourly_demand[['hour', 'day_of_week', 'temperature_2m', 'precipitation', 'rain', 'snowfall', 'lag_demand_1', 'lag_demand_3', 'lag_demand_6']]\n",
    "\n",
    "# Predict using the trained XGBoost model\n",
    "hourly_demand['XGB_demand'] = xgb_model.predict(X_forecast)\n",
    "hourly_demand['XGB_demand'] = round(hourly_demand['XGB_demand'] )\n",
    "# Step 3: Format the output\n",
    "# Combine predicted demand with the date information\n",
    "final_forecast = hourly_demand[['date', 'hour','day_of_week', 'XGB_demand']]\n",
    "\n",
    "# Step 4: Display or return the forecast\n",
    "print(final_forecast.head())\n",
    "\n",
    "# Optionally save the forecast to a CSV file\n",
    "final_forecast.to_csv('xgb_forecast_september_week1.csv', index=False)"
   ]
  },
  {
   "cell_type": "code",
   "execution_count": 987,
   "id": "0a2e0170-405b-4bee-940b-2614f47b5cf1",
   "metadata": {},
   "outputs": [],
   "source": [
    "predicted_demand = []\n",
    "\n",
    "for i in range(forecast_hours):\n",
    "    forecast_hour = forecast_data.iloc[i]\n",
    "    \n",
    "    features = np.array([forecast_hour['hour'], forecast_hour['day_of_week'], latest_demand[0], latest_demand[1], latest_demand[2], np.mean(latest_demand)])\n",
    "    \n",
    "    features_scaled = scaler.transform([features])\n",
    "    \n",
    "    demand_prediction = lasso_model.predict(features_scaled)[0]\n",
    "    \n",
    "    predicted_demand.append(demand_prediction)\n",
    "    \n",
    "    latest_demand = np.roll(latest_demand, -1)\n",
    "    latest_demand[-1] = demand_prediction\n",
    "\n",
    "forecast_data['predicted_demand'] = predicted_demand\n"
   ]
  },
  {
   "cell_type": "code",
   "execution_count": 988,
   "id": "ccaf45ad-5405-42a4-b037-2203efa1a9f1",
   "metadata": {},
   "outputs": [],
   "source": [
    "forecast_data['predicted_demand'] = round(forecast_data['predicted_demand'])"
   ]
  },
  {
   "cell_type": "code",
   "execution_count": 989,
   "id": "2b38980c-3daa-4818-a56a-bf27ee15ee44",
   "metadata": {},
   "outputs": [],
   "source": [
    "forecast_data.to_csv(\"Forecast_Sept_firstweek.csv\",index=False)"
   ]
  },
  {
   "cell_type": "code",
   "execution_count": 990,
   "id": "743ea153-d51c-4275-bc66-085c4f8a3c08",
   "metadata": {},
   "outputs": [
    {
     "data": {
      "text/plain": [
       "count    65992.000000\n",
       "mean        13.184295\n",
       "std          7.356553\n",
       "min          1.000000\n",
       "25%          7.000000\n",
       "50%         12.000000\n",
       "75%         18.000000\n",
       "max         47.000000\n",
       "Name: hourly_demand, dtype: float64"
      ]
     },
     "execution_count": 990,
     "metadata": {},
     "output_type": "execute_result"
    }
   ],
   "source": [
    "hourly_demand['hourly_demand'].describe()"
   ]
  },
  {
   "cell_type": "markdown",
   "id": "84c42de6-39f0-4656-a48d-4fbb72f0e876",
   "metadata": {},
   "source": [
    "## Optimal Number of Taxis"
   ]
  },
  {
   "cell_type": "markdown",
   "id": "f458a6d3-0836-44a6-8d91-868f0c854ad4",
   "metadata": {},
   "source": [
    "#### Assumptions\n",
    "    Average Trip Duration: Assume the average trip duration for a taxi ride in the Bronx is 30 minutes (0.5 hours). This means that, on average, a taxi can complete two trips per hour.\n",
    "    \n",
    "    Taxi Availability: Assume that a taxi is available and ready to accept a new fare immediately after completing the previous trip.\n",
    "    \n",
    "    Demand Prediction: We already have the hourly demand forecast for the first week of September using the Lasso model. Let’s assume this is an accurate prediction of customer demand.\n",
    "    \n",
    "    Operational Constraints:\n",
    "    \n",
    "    Taxi Shift Length: Taxis operate in 12-hour shifts, so the availability of each taxi is 12 hours a day.\n",
    "    Safety Buffer: Add a buffer of 10% to account for unpredictable events such as traffic, delays, or downtime.\n",
    "    Cost Considerations: For this analysis, we'll assume that the costs of increasing the taxi fleet are proportional to the number of taxis deployed. The goal is to meet the demand while minimizing under-utilization (idle taxis).\n",
    "\n"
   ]
  },
  {
   "cell_type": "code",
   "execution_count": 1001,
   "id": "b152eb62-c783-4c2e-a7ea-cef79f1f1374",
   "metadata": {},
   "outputs": [
    {
     "name": "stdout",
     "output_type": "stream",
     "text": [
      "    tpep_pickup_datetime  predicted_demand  taxis_required\n",
      "0    2024-09-01 00:00:00              24.0            14.0\n",
      "1    2024-09-01 01:00:00              24.0            14.0\n",
      "2    2024-09-01 02:00:00              23.0            13.0\n",
      "3    2024-09-01 03:00:00              23.0            13.0\n",
      "4    2024-09-01 04:00:00              23.0            13.0\n",
      "..                   ...               ...             ...\n",
      "163  2024-09-07 19:00:00               3.0             2.0\n",
      "164  2024-09-07 20:00:00               3.0             2.0\n",
      "165  2024-09-07 21:00:00               3.0             2.0\n",
      "166  2024-09-07 22:00:00               3.0             2.0\n",
      "167  2024-09-07 23:00:00               3.0             2.0\n",
      "\n",
      "[168 rows x 3 columns]\n",
      "Maximum number of taxis required: 14.0\n"
     ]
    }
   ],
   "source": [
    "predicted_demand = forecast_data['predicted_demand']\n",
    "\n",
    "# Assumptions\n",
    "average_trips_per_hour = 2  # Each taxi can complete 2 trips per hour on average\n",
    "safety_buffer = 1.10  # 10% safety buffer for unexpected demand\n",
    "\n",
    "# Calculate the number of taxis required each hour\n",
    "taxis_required = (predicted_demand / average_trips_per_hour) * safety_buffer\n",
    "\n",
    "forecast_data['taxis_required'] = np.ceil(taxis_required)\n",
    "\n",
    "max_taxis_needed = forecast_data['taxis_required'].max()\n",
    "\n",
    "print(forecast_data[['tpep_pickup_datetime', 'predicted_demand', 'taxis_required']])\n",
    "\n",
    "# Maximum number of taxis needed during the week\n",
    "print(f\"Maximum number of taxis required: {max_taxis_needed}\")\n"
   ]
  },
  {
   "cell_type": "code",
   "execution_count": 1003,
   "id": "b0315447-88aa-4fda-be44-bc8234703996",
   "metadata": {},
   "outputs": [
    {
     "data": {
      "text/plain": [
       "count    168.00000\n",
       "mean       5.37500\n",
       "std        3.27335\n",
       "min        2.00000\n",
       "25%        3.00000\n",
       "50%        4.00000\n",
       "75%        8.00000\n",
       "max       14.00000\n",
       "Name: taxis_required, dtype: float64"
      ]
     },
     "execution_count": 1003,
     "metadata": {},
     "output_type": "execute_result"
    }
   ],
   "source": [
    "forecast_data['taxis_required'].describe()"
   ]
  },
  {
   "cell_type": "code",
   "execution_count": 1002,
   "id": "e20a4fa4-2180-4a85-8f27-39efecdf9cb4",
   "metadata": {},
   "outputs": [],
   "source": [
    "forecast_data.to_csv(\"Optimal_taxis.csv\",index=False)"
   ]
  },
  {
   "cell_type": "markdown",
   "id": "f247a6a8-2fa0-42b7-88af-ca4e41cbe86d",
   "metadata": {},
   "source": [
    "### Implications\n",
    "    Operational Efficiency: Adequate supply of taxis ensures minimal wait times for customers, enhancing service quality.\n",
    "    Customer Satisfaction: Sufficient availability can improve customer experiences, reducing the likelihood of long waits.\n",
    "    Cost Considerations: Balancing the number of taxis with operational costs and customer demand is crucial for profitability"
   ]
  },
  {
   "cell_type": "code",
   "execution_count": null,
   "id": "979876c4-9d5d-44a0-b5c3-81f091485db9",
   "metadata": {},
   "outputs": [],
   "source": []
  }
 ],
 "metadata": {
  "kernelspec": {
   "display_name": "Python 3 (ipykernel)",
   "language": "python",
   "name": "python3"
  },
  "language_info": {
   "codemirror_mode": {
    "name": "ipython",
    "version": 3
   },
   "file_extension": ".py",
   "mimetype": "text/x-python",
   "name": "python",
   "nbconvert_exporter": "python",
   "pygments_lexer": "ipython3",
   "version": "3.11.7"
  }
 },
 "nbformat": 4,
 "nbformat_minor": 5
}
